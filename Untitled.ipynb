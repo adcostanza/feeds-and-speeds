{
 "cells": [
  {
   "cell_type": "code",
   "execution_count": 19,
   "id": "a1136aa6-91da-4dc1-8b13-79204a21ab8f",
   "metadata": {},
   "outputs": [],
   "source": [
    "import feeds_and_speeds.calculator as calculator\n",
    "import numpy as np\n",
    "from matplotlib import pyplot as plt"
   ]
  },
  {
   "cell_type": "code",
   "execution_count": 20,
   "id": "f1fac042-3100-424a-9c76-7390c6c47a11",
   "metadata": {},
   "outputs": [],
   "source": [
    "router = calculator.Router(input_voltage=120., input_current=6.5, efficiency=0.6, rated_speed=30000.)\n",
    "machine = calculator.Machine(maximum_machine_force=18., router=router)\n",
    "\n",
    "cutter = calculator.Cutter(\n",
    "    material=calculator.CutterMaterial.carbide,\n",
    "    diameter=0.25,\n",
    "    length=0.75,\n",
    "    flutes=3,\n",
    "    shank_diameter=0.5,\n",
    "    overall_stickout=1,\n",
    "    maximum_deflection=0.0010)\n"
   ]
  },
  {
   "cell_type": "code",
   "execution_count": 26,
   "id": "c0a578d4-d1e2-47fe-836c-4c7dbece2162",
   "metadata": {},
   "outputs": [
    {
     "data": {
      "image/png": "[encoded data removed]",
      "text/plain": [
       "<Figure size 432x288 with 1 Axes>"
      ]
     },
     "metadata": {
      "needs_background": "light"
     },
     "output_type": "display_data"
    }
   ],
   "source": [
    "    \n",
    "def doc_dependent_calculation(doc: float) -> calculator.FeedsAndSpeedsCalculator:\n",
    "    return calculator.FeedsAndSpeedsCalculator(machine=machine,\n",
    "                                    cutter=cutter,\n",
    "                                    chipload=0.002,\n",
    "                                    woc=0.1875,\n",
    "                                    doc=doc,\n",
    "                                    rpm=18000.,\n",
    "                                    k_factor=10.,\n",
    "                                    max_acceptable_deflection=0.0010)\n",
    "\n",
    "def woc_dependent_calculation(woc: float) -> calculator.FeedsAndSpeedsCalculator:\n",
    "    return calculator.FeedsAndSpeedsCalculator(machine=machine,\n",
    "                                    cutter=cutter,\n",
    "                                    chipload=0.002,\n",
    "                                    woc=woc,\n",
    "                                    doc=0.075,\n",
    "                                    rpm=18000.,\n",
    "                                    k_factor=10.,\n",
    "                                    max_acceptable_deflection=0.0010)\n",
    "\n",
    "\n",
    "docs = np.linspace(0.001,0.75, 20)\n",
    "percent_of_max_machine_forces = [doc_dependent_calculation(doc).machine_force_percent*100 for doc in docs]\n",
    "\n",
    "plt.plot(docs, percent_of_max_machine_forces, 'o', color='black');\n",
    "\n",
    "\n",
    "wocs = np.linspace(0.25*0.05,0.25, 20)\n",
    "percent_of_max_machine_forces_woc = [woc_dependent_calculation(woc).machine_force_percent*100 for woc in wocs]\n",
    "\n",
    "plt.plot(wocs, percent_of_max_machine_forces_woc, 'o', color='blue');"
   ]
  },
  {
   "cell_type": "code",
   "execution_count": null,
   "id": "ad3a83d7-de2c-4863-aab6-6624c740d00c",
   "metadata": {},
   "outputs": [],
   "source": []
  },
  {
   "cell_type": "code",
   "execution_count": null,
   "id": "f4216e88-9c47-4030-a2e4-48d64a2068a0",
   "metadata": {},
   "outputs": [],
   "source": []
  }
 ],
 "metadata": {
  "kernelspec": {
   "display_name": "Python 3 (ipykernel)",
   "language": "python",
   "name": "python3"
  },
  "language_info": {
   "codemirror_mode": {
    "name": "ipython",
    "version": 3
   },
   "file_extension": ".py",
   "mimetype": "text/x-python",
   "name": "python",
   "nbconvert_exporter": "python",
   "pygments_lexer": "ipython3",
   "version": "3.9.7"
  }
 },
 "nbformat": 4,
 "nbformat_minor": 5
}
